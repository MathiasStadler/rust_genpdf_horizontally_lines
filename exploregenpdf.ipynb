{
 "cells": [
  {
   "cell_type": "markdown",
   "metadata": {},
   "source": [
    "# explore genpdf"
   ]
  },
  {
   "cell_type": "markdown",
   "metadata": {},
   "source": [
    "# create first demo.pdf"
   ]
  },
  {
   "cell_type": "code",
   "execution_count": 4,
   "metadata": {},
   "outputs": [],
   "source": [
    "\n",
    "\n",
    ":dep genpdf\n"
   ]
  },
  {
   "cell_type": "code",
   "execution_count": 6,
   "metadata": {},
   "outputs": [],
   "source": [
    "use std::env;\n",
    "\n",
    "use genpdf::Alignment;\n",
    "use genpdf::Element as _;\n",
    "use genpdf::{elements, fonts, style};\n",
    "\n",
    "fn firstdemopdf(){\n",
    "\n",
    "// Load a font from the file system\n",
    "let font_family = genpdf::fonts::from_files(\"./fonts\", \"LiberationSans\", None)\n",
    "    .expect(\"Failed to load font family\");\n",
    "// Create a document and set the default font family\n",
    "let mut doc = genpdf::Document::new(font_family);\n",
    "// Change the default settings\n",
    "doc.set_title(\"Demo document\");\n",
    "// Customize the pages\n",
    "let mut decorator = genpdf::SimplePageDecorator::new();\n",
    "decorator.set_margins(10);\n",
    "doc.set_page_decorator(decorator);\n",
    "// Add one or more elements\n",
    "doc.push(genpdf::elements::Paragraph::new(\"This is a demo document.\"));\n",
    "// Render the document and write it to a file\n",
    "doc.render_to_file(\"example/first_demo.pdf\").expect(\"Failed to write PDF file\");\n",
    "}"
   ]
  },
  {
   "cell_type": "code",
   "execution_count": 7,
   "metadata": {},
   "outputs": [
    {
     "name": "stderr",
     "output_type": "stream",
     "text": [
      "thread '<unnamed>' panicked at src/lib.rs:7:6:\n",
      "Failed to load font family: Error { msg: \"Failed to open font file ./fonts/LiberationSans-Regular.ttf\", kind: IoError(Os { code: 2, kind: NotFound, message: \"No such file or directory\" }) }\n",
      "stack backtrace:\n",
      "   0: rust_begin_unwind\n",
      "             at /rustc/8131b9774ebcb6c162fcac71545a13543ec369e7/library/std/src/panicking.rs:617:5\n",
      "   1: core::panicking::panic_fmt\n",
      "             at /rustc/8131b9774ebcb6c162fcac71545a13543ec369e7/library/core/src/panicking.rs:67:14\n",
      "   2: core::result::unwrap_failed\n",
      "             at /rustc/8131b9774ebcb6c162fcac71545a13543ec369e7/library/core/src/result.rs:1652:5\n",
      "   3: std::panicking::try\n",
      "   4: run_user_code_4\n",
      "   5: evcxr::runtime::Runtime::run_loop\n",
      "   6: evcxr::runtime::runtime_hook\n",
      "   7: evcxr_jupyter::main\n",
      "note: Some details are omitted, run with `RUST_BACKTRACE=full` for a verbose backtrace.\n"
     ]
    }
   ],
   "source": [
    "firstdemopdf()"
   ]
  }
 ],
 "metadata": {
  "kernelspec": {
   "display_name": "Rust",
   "language": "rust",
   "name": "rust"
  },
  "language_info": {
   "codemirror_mode": "rust",
   "file_extension": ".rs",
   "mimetype": "text/rust",
   "name": "rust",
   "pygment_lexer": "rust",
   "version": ""
  }
 },
 "nbformat": 4,
 "nbformat_minor": 2
}
