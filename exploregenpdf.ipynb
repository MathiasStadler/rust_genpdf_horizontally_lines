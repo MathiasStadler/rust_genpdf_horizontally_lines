{
 "cells": [
  {
   "cell_type": "markdown",
   "metadata": {},
   "source": [
    "# explore genpdf"
   ]
  },
  {
   "cell_type": "markdown",
   "metadata": {},
   "source": [
    "# create first demo.pdf"
   ]
  },
  {
   "cell_type": "code",
   "execution_count": 2,
   "metadata": {
    "vscode": {
     "languageId": "rust"
    }
   },
   "outputs": [],
   "source": [
    "\n",
    "\n",
    ":dep genpdf\n"
   ]
  },
  {
   "cell_type": "code",
   "execution_count": 3,
   "metadata": {
    "vscode": {
     "languageId": "rust"
    }
   },
   "outputs": [],
   "source": [
    "use std::env;\n",
    "\n",
    "use genpdf::Alignment;\n",
    "use genpdf::Element as _;\n",
    "use genpdf::{elements, fonts, style};\n",
    "\n",
    "fn firstdemopdf(){\n",
    "\n",
    "// Load a font from the file system\n",
    "let font_family = genpdf::fonts::from_files(\"./fonts\", \"LiberationSans\", None)\n",
    "    .expect(\"Failed to load font family\");\n",
    "// Create a document and set the default font family\n",
    "let mut doc = genpdf::Document::new(font_family);\n",
    "// Change the default settings\n",
    "doc.set_title(\"Demo document\");\n",
    "// Customize the pages\n",
    "let mut decorator = genpdf::SimplePageDecorator::new();\n",
    "decorator.set_margins(10);\n",
    "doc.set_page_decorator(decorator);\n",
    "// Add one or more elements\n",
    "doc.push(genpdf::elements::Paragraph::new(\"This is a demo document.\"));\n",
    "// Render the document and write it to a file\n",
    "doc.render_to_file(\"example/first_demo.pdf\").expect(\"Failed to write PDF file\");\n",
    "}"
   ]
  },
  {
   "cell_type": "code",
   "execution_count": null,
   "metadata": {
    "vscode": {
     "languageId": "rust"
    }
   },
   "outputs": [],
   "source": [
    "firstdemopdf()"
   ]
  },
  {
   "cell_type": "markdown",
   "metadata": {},
   "source": [
    " # inside terminal\n",
    "\n",
    " bash: cargo build --example  first_create_pdf_with_line\n",
    "\n",
    " "
   ]
  }
 ],
 "metadata": {
  "kernelspec": {
   "display_name": "Rust",
   "language": "rust",
   "name": "rust"
  },
  "language_info": {
   "codemirror_mode": "rust",
   "file_extension": ".rs",
   "mimetype": "text/rust",
   "name": "Rust",
   "pygment_lexer": "rust",
   "version": ""
  }
 },
 "nbformat": 4,
 "nbformat_minor": 2
}
